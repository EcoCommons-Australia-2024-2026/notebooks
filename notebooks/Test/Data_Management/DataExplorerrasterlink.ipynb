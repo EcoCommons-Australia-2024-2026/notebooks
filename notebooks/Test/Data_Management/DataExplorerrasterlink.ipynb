{
 "cells": [
  {
   "cell_type": "code",
   "execution_count": 1,
   "id": "953762ae-b7c0-4151-9c2b-a811fe58e029",
   "metadata": {},
   "outputs": [
    {
     "name": "stderr",
     "output_type": "stream",
     "text": [
      "Warning message in install.packages(\"terra\"):\n",
      "“installation of package ‘terra’ had non-zero exit status”\n",
      "Updating HTML index of packages in '.Library'\n",
      "\n",
      "Making 'packages.html' ...\n",
      " done\n",
      "\n"
     ]
    },
    {
     "ename": "ERROR",
     "evalue": "Error in library(terra): there is no package called ‘terra’\n",
     "output_type": "error",
     "traceback": [
      "Error in library(terra): there is no package called ‘terra’\nTraceback:\n",
      "1. library(terra)"
     ]
    }
   ],
   "source": [
    "if (!requireNamespace(\"terra\", quietly = TRUE)) {\n",
    "  install.packages(\"terra\")\n",
    "}\n",
    "library(terra)\n",
    "\n",
    "# Load the raster\n",
    "raster_url <- \"https://api.data-ingester.app.ecocommons.org.au/api/data/c4ffe6f2-2815-5a79-8f1d-b04afcbc710c/download/AusClim_bioclim_01_9s_1976-2005.tif\"\n",
    "raster_data <- rast(raster_url)\n",
    "\n",
    "# Check the raster\n",
    "print(raster_data)\n"
   ]
  },
  {
   "cell_type": "code",
   "execution_count": 2,
   "id": "ae693643-2949-42c9-9bf8-8e9dab876191",
   "metadata": {},
   "outputs": [
    {
     "name": "stderr",
     "output_type": "stream",
     "text": [
      "Updating HTML index of packages in '.Library'\n",
      "\n",
      "Making 'packages.html' ...\n",
      " done\n",
      "\n",
      "Warning message in install.packages(\"terra\"):\n",
      "“installation of package ‘terra’ had non-zero exit status”\n",
      "Updating HTML index of packages in '.Library'\n",
      "\n",
      "Making 'packages.html' ...\n",
      " done\n",
      "\n"
     ]
    },
    {
     "ename": "ERROR",
     "evalue": "Error in library(terra): there is no package called ‘terra’\n",
     "output_type": "error",
     "traceback": [
      "Error in library(terra): there is no package called ‘terra’\nTraceback:\n",
      "1. library(terra)"
     ]
    }
   ],
   "source": [
    "# Install Rcpp first\n",
    "install.packages(\"Rcpp\")\n",
    "\n",
    "# Install terra package\n",
    "install.packages(\"terra\")\n",
    "\n",
    "# Load the package\n",
    "library(terra)\n"
   ]
  },
  {
   "cell_type": "code",
   "execution_count": 3,
   "id": "0b251bbd-07f6-47d3-aa88-bb9a8c2b2a46",
   "metadata": {},
   "outputs": [
    {
     "name": "stderr",
     "output_type": "stream",
     "text": [
      "also installing the dependencies ‘sp’, ‘terra’\n",
      "\n",
      "\n",
      "Warning message in install.packages(\"raster\"):\n",
      "“installation of package ‘terra’ had non-zero exit status”\n",
      "Warning message in install.packages(\"raster\"):\n",
      "“installation of package ‘raster’ had non-zero exit status”\n",
      "Updating HTML index of packages in '.Library'\n",
      "\n",
      "Making 'packages.html' ...\n",
      " done\n",
      "\n"
     ]
    }
   ],
   "source": [
    "install.packages(\"raster\")\n"
   ]
  },
  {
   "cell_type": "code",
   "execution_count": 4,
   "id": "3141f6eb-a071-481e-a80b-c2765cee80ff",
   "metadata": {},
   "outputs": [
    {
     "ename": "ERROR",
     "evalue": "Error in library(raster): there is no package called ‘raster’\n",
     "output_type": "error",
     "traceback": [
      "Error in library(raster): there is no package called ‘raster’\nTraceback:\n",
      "1. library(raster)"
     ]
    }
   ],
   "source": [
    "library(raster)\n",
    "\n",
    "# Load the raster\n",
    "raster_url <- \"https://api.data-ingester.app.ecocommons.org.au/api/data/c4ffe6f2-2815-5a79-8f1d-b04afcbc710c/download/AusClim_bioclim_01_9s_1976-2005.tif\"\n",
    "raster_data <- raster(raster_url)\n",
    "\n",
    "# Plot the raster\n",
    "plot(raster_data)\n",
    "\n",
    "# Get raster statistics\n",
    "stats(raster_data)\n"
   ]
  },
  {
   "cell_type": "code",
   "execution_count": 5,
   "id": "1c543439-fb33-4199-9d29-720231d5962c",
   "metadata": {},
   "outputs": [
    {
     "ename": "ERROR",
     "evalue": "Error in .rs.restartR(): could not find function \".rs.restartR\"\n",
     "output_type": "error",
     "traceback": [
      "Error in .rs.restartR(): could not find function \".rs.restartR\"\nTraceback:\n"
     ]
    }
   ],
   "source": [
    "# Restart R session\n",
    ".rs.restartR()\n",
    "\n",
    "# Install raster again\n",
    "install.packages(\"raster\")\n"
   ]
  }
 ],
 "metadata": {
  "kernelspec": {
   "display_name": "R",
   "language": "R",
   "name": "ir"
  },
  "language_info": {
   "codemirror_mode": "r",
   "file_extension": ".r",
   "mimetype": "text/x-r-source",
   "name": "R",
   "pygments_lexer": "r",
   "version": "4.2.2"
  }
 },
 "nbformat": 4,
 "nbformat_minor": 5
}
