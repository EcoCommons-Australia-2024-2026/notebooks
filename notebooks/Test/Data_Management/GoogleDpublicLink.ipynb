{
 "cells": [
  {
   "cell_type": "code",
   "execution_count": 1,
   "id": "7aca73bd-413b-4dd4-aa2c-8e1b9fa0e09c",
   "metadata": {
    "vscode": {
     "languageId": "r"
    }
   },
   "outputs": [],
   "source": [
    "\n",
    "if (!requireNamespace(\"googledrive\", quietly = TRUE)) {\n",
    "  install.packages(\"googledrive\")\n",
    "}\n",
    "if (!requireNamespace(\"rlang\", quietly = TRUE)) {\n",
    "  install.packages(\"rlang\")\n",
    "}                            # resolving version error\n",
    "if (!requireNamespace(\"raster\", quietly = TRUE)) {\n",
    "  install.packages(\"raster\")\n",
    "}    \n",
    "if (!requireNamespace(\"sp\", quietly = TRUE)) {\n",
    "  install.packages(\"sp\")\n",
    "}    \n",
    "\n",
    "library(googledrive)\n",
    "library(rlang)"
   ]
  },
  {
   "cell_type": "code",
   "execution_count": 3,
   "id": "c49737c0-d05d-4f9b-97e6-773a60c8b643",
   "metadata": {
    "vscode": {
     "languageId": "r"
    }
   },
   "outputs": [
    {
     "name": "stdout",
     "output_type": "stream",
     "text": [
      "Workspace: /Users/qcifecocommons/Library/CloudStorage/OneDrive-QueenslandCyberInfrastructureFoundationLtd/1.GithubRepo/EC_notebook/notebooks/notebooks/Test/Data_Management \n"
     ]
    },
    {
     "name": "stderr",
     "output_type": "stream",
     "text": [
      "Warning message in dir.create(file.path(Workspace, \"raw_data\"), recursive = TRUE):\n",
      "\"'/Users/qcifecocommons/Library/CloudStorage/OneDrive-QueenslandCyberInfrastructureFoundationLtd/1.GithubRepo/EC_notebook/notebooks/notebooks/Test/Data_Management/raw_data' already exists\"\n"
     ]
    },
    {
     "name": "stderr",
     "output_type": "stream",
     "text": [
      "File downloaded:\n",
      "\n",
      "* \u001b[36mTree_kangaroo.csv\u001b[39m \u001b[90m<id:<U+00A0>1mNBJAwhCiJzliAqAPWqBJf6qQ6KP11jH>\u001b[39m\n",
      "\n",
      "Saved locally as:\n",
      "\n",
      "* \u001b[34m/Users/qcifecocommons/Library/CloudStorage/OneDrive-QueenslandCyberInfrastructureFoundationLtd/1.GithubRepo/EC_notebook/notebooks/notebooks/Test/Data_Management/raw_data/tree_kangaroo.csv\u001b[39m\n",
      "\n",
      "File downloaded:\n",
      "\n",
      "* \u001b[36menv_current.grd\u001b[39m \u001b[90m<id:<U+00A0>1IDrfCzAyf3C3QYs6EhTCU8gsaIsmVbWV>\u001b[39m\n",
      "\n",
      "Saved locally as:\n",
      "\n",
      "* \u001b[34m/Users/qcifecocommons/Library/CloudStorage/OneDrive-QueenslandCyberInfrastructureFoundationLtd/1.GithubRepo/EC_notebook/notebooks/notebooks/Test/Data_Management/raw_data/current.grd\u001b[39m\n",
      "\n",
      "File downloaded:\n",
      "\n",
      "* \u001b[36mpacific-winds_2021_1km.tif\u001b[39m \u001b[90m<id:<U+00A0>1ChbZpogg4HgSRlalYEnhKObz0p7hSmaD>\u001b[39m\n",
      "\n",
      "Saved locally as:\n",
      "\n",
      "* \u001b[34m/Users/qcifecocommons/Library/CloudStorage/OneDrive-QueenslandCyberInfrastructureFoundationLtd/1.GithubRepo/EC_notebook/notebooks/notebooks/Test/Data_Management/raw_data/windspath.tif\u001b[39m\n",
      "\n"
     ]
    },
    {
     "data": {
      "text/html": [
       "<style>\n",
       ".list-inline {list-style: none; margin:0; padding: 0}\n",
       ".list-inline>li {display: inline-block}\n",
       ".list-inline>li:not(:last-child)::after {content: \"\\00b7\"; padding: 0 .5ex}\n",
       "</style>\n",
       "<ol class=list-inline><li>'current.grd'</li><li>'tree_kangaroo.csv'</li><li>'windspath.tif'</li></ol>\n"
      ],
      "text/latex": [
       "\\begin{enumerate*}\n",
       "\\item 'current.grd'\n",
       "\\item 'tree\\_kangaroo.csv'\n",
       "\\item 'windspath.tif'\n",
       "\\end{enumerate*}\n"
      ],
      "text/markdown": [
       "1. 'current.grd'\n",
       "2. 'tree_kangaroo.csv'\n",
       "3. 'windspath.tif'\n",
       "\n",
       "\n"
      ],
      "text/plain": [
       "[1] \"current.grd\"       \"tree_kangaroo.csv\" \"windspath.tif\"    "
      ]
     },
     "metadata": {},
     "output_type": "display_data"
    }
   ],
   "source": [
    "# Set Workspace as the current working directory\n",
    "Workspace <- getwd() \n",
    "#Workspace <- \"/DIR\"      #change directory\n",
    "\n",
    "#The cat function in useful for displaying messages and debugging information.\n",
    "cat(\"Workspace:\", Workspace, \"\\n\")\n",
    "\n",
    "# Create the 'raw_data' directory within the current and parent working directory\n",
    "dir.create(file.path(Workspace, \"raw_data\"), recursive = TRUE)\n",
    "\n",
    "# Install and load the googledrive package\n",
    "#install.packages(\"googledrive\")\n",
    "#library(googledrive)\n",
    "\n",
    "# De-authenticate to access public files\n",
    "drive_deauth()\n",
    "\n",
    "# Google Drive file IDs\n",
    "csv_file_id <- \"1mNBJAwhCiJzliAqAPWqBJf6qQ6KP11jH\"\n",
    "grd_file_id <- \"1IDrfCzAyf3C3QYs6EhTCU8gsaIsmVbWV\"\n",
    "tif_file_id <- \"1ChbZpogg4HgSRlalYEnhKObz0p7hSmaD\"\n",
    "\n",
    "# Download the CSV and spatial files  to the 'raw_data' directory\n",
    "drive_download(as_id(csv_file_id), path = file.path(Workspace, \"raw_data\", \"tree_kangaroo.csv\"), overwrite = TRUE)\n",
    "drive_download(as_id(grd_file_id), path = file.path(Workspace, \"raw_data\", \"current.grd\"), overwrite = TRUE)\n",
    "drive_download(as_id(tif_file_id), path = file.path(Workspace, \"raw_data\", \"windspath.tif\"), overwrite = TRUE)\n",
    "\n",
    "# Confirm the files have been downloaded\n",
    "list.files(file.path(Workspace, \"raw_data\"))"
   ]
  },
  {
   "cell_type": "code",
   "execution_count": 4,
   "id": "97c23fc7-dcd2-45b8-bd2b-60b9dbf7c9ca",
   "metadata": {
    "vscode": {
     "languageId": "r"
    }
   },
   "outputs": [
    {
     "name": "stdout",
     "output_type": "stream",
     "text": [
      "                species    lat    lon present\n",
      "1 Dendrolagus lumholtzi -17.27 145.48       1\n",
      "2 Dendrolagus lumholtzi -16.92 145.77       1\n",
      "3 Dendrolagus lumholtzi -17.29 145.57       0\n",
      "4 Dendrolagus lumholtzi -17.38 145.67       1\n",
      "5 Dendrolagus lumholtzi -17.38 145.67       1\n",
      "6 Dendrolagus lumholtzi -17.35 145.59       0\n"
     ]
    }
   ],
   "source": [
    "# View CSV file\n",
    "#data <- read.csv(\"/home/jovyan/raw_data/tree_kangaroo.csvv\")\n",
    "tree_kangaroo_data <- read.csv(file.path(Workspace, \"raw_data\", \"tree_kangaroo.csv\"))\n",
    "print(head(tree_kangaroo_data))\n",
    "\n",
    "\n"
   ]
  },
  {
   "cell_type": "code",
   "execution_count": 5,
   "id": "ea84b3d5",
   "metadata": {
    "vscode": {
     "languageId": "r"
    }
   },
   "outputs": [
    {
     "ename": "ERROR",
     "evalue": "Error in rast(file.path(Workspace, \"raw_data\", \"current.grd\")): could not find function \"rast\"\n",
     "output_type": "error",
     "traceback": [
      "Error in rast(file.path(Workspace, \"raw_data\", \"current.grd\")): could not find function \"rast\"\nTraceback:\n"
     ]
    }
   ],
   "source": [
    "# Plot GRD file\n",
    "grd_raster <- rast(file.path(Workspace, \"raw_data\", \"current.grd\"))\n",
    "plot(grd_raster, main = \"GRD Raster\")\n",
    "\n",
    "# Plot TIF file\n",
    "tif_raster <- rast(file.path(Workspace, \"raw_data\", \"windspath.tif\"))\n",
    "plot(tif_raster, main = \"TIF Raster\")"
   ]
  }
 ],
 "metadata": {
  "kernelspec": {
   "display_name": "R",
   "language": "R",
   "name": "ir"
  },
  "language_info": {
   "codemirror_mode": "r",
   "file_extension": ".r",
   "mimetype": "text/x-r-source",
   "name": "R",
   "pygments_lexer": "r",
   "version": "4.4.1"
  }
 },
 "nbformat": 4,
 "nbformat_minor": 5
}
