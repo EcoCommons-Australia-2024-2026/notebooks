{
 "cells": [
  {
   "cell_type": "code",
   "execution_count": 1,
   "id": "7aca73bd-413b-4dd4-aa2c-8e1b9fa0e09c",
   "metadata": {},
   "outputs": [],
   "source": [
    "\n",
    "if (!requireNamespace(\"googledrive\", quietly = TRUE)) {\n",
    "  install.packages(\"googledrive\")\n",
    "}\n",
    "\n",
    "\n",
    "if (!requireNamespace(\"rlang\", quietly = TRUE)) {\n",
    "  install.packages(\"rlang\")\n",
    "}\n",
    "\n",
    "\n",
    "library(googledrive)\n",
    "library(rlang)"
   ]
  },
  {
   "cell_type": "code",
   "execution_count": 2,
   "id": "c49737c0-d05d-4f9b-97e6-773a60c8b643",
   "metadata": {},
   "outputs": [
    {
     "name": "stderr",
     "output_type": "stream",
     "text": [
      "Updating HTML index of packages in '.Library'\n",
      "\n",
      "Making 'packages.html' ...\n",
      " done\n",
      "\n"
     ]
    }
   ],
   "source": [
    "# resolving version error\n",
    "install.packages(\"rlang\")\n"
   ]
  },
  {
   "cell_type": "code",
   "execution_count": 3,
   "id": "97c23fc7-dcd2-45b8-bd2b-60b9dbf7c9ca",
   "metadata": {},
   "outputs": [],
   "source": [
    "if (!requireNamespace(\"googledrive\", quietly = TRUE)) {\n",
    "  install.packages(\"googledrive\")\n",
    "}\n",
    "library(googledrive)"
   ]
  },
  {
   "cell_type": "code",
   "execution_count": 11,
   "id": "3776ffc7-5154-4f5f-9711-8f1b53a36113",
   "metadata": {},
   "outputs": [],
   "source": [
    "# Replace with your Google Drive file URL\n",
    "file_url <- \"https://drive.google.com/file/d/1mNBJAwhCiJzliAqAPWqBJf6qQ6KP11jH/view?usp=drive_link\"\n",
    "\n",
    "# De-authenticate to access public files\n",
    "\n",
    "drive_deauth()\n",
    "\n",
    "# Extract the file ID from the URL\n",
    "#file_id <- gsub(\"1mNBJAwhCiJzliAqAPWqBJf6qQ6KP11jH\", \"\\\\1\", file_url)\n",
    "file_id <- \"1mNBJAwhCiJzliAqAPWqBJf6qQ6KP11jH\"\n",
    "\n",
    "\n"
   ]
  },
  {
   "cell_type": "code",
   "execution_count": 12,
   "id": "a7602e14-3304-4551-8e3c-00e0e0c3f48d",
   "metadata": {
    "jupyter": {
     "source_hidden": true
    },
    "tags": []
   },
   "outputs": [
    {
     "ename": "ERROR",
     "evalue": "Error in curl::curl_fetch_disk(url, x$path, handle = handle): Failed to open file /home/joyvan.\n",
     "output_type": "error",
     "traceback": [
      "Error in curl::curl_fetch_disk(url, x$path, handle = handle): Failed to open file /home/joyvan.\nTraceback:\n",
      "1. drive_download(as_id(file_id), path = \"/home/joyvan\", overwrite = TRUE)",
      "2. request_make(request, httr::write_disk(path, overwrite = overwrite))",
      "3. gargle::request_retry(x, ..., user_agent = drive_ua())",
      "4. request_make(...)",
      "5. method(url = x$url, body = x$body, x$token, encode = encode, \n .     user_agent, ...)",
      "6. request_perform(req, hu$handle$handle)",
      "7. request_fetch(req$output, req$url, handle)",
      "8. request_fetch.write_disk(req$output, req$url, handle)",
      "9. curl::curl_fetch_disk(url, x$path, handle = handle)"
     ]
    }
   ],
   "source": [
    "\n",
    "# Download the file\n",
    "drive_download(as_id(file_id), path = \"/home/joyvan\", overwrite = TRUE)"
   ]
  },
  {
   "cell_type": "code",
   "execution_count": null,
   "id": "d10896ab-59c5-4e28-b9e8-d0f32f60fa8f",
   "metadata": {},
   "outputs": [],
   "source": [
    "data <- read.csv(\"Tree_kangaroo.csv\")\n"
   ]
  }
 ],
 "metadata": {
  "kernelspec": {
   "display_name": "R",
   "language": "R",
   "name": "ir"
  },
  "language_info": {
   "codemirror_mode": "r",
   "file_extension": ".r",
   "mimetype": "text/x-r-source",
   "name": "R",
   "pygments_lexer": "r",
   "version": "4.2.2"
  }
 },
 "nbformat": 4,
 "nbformat_minor": 5
}
