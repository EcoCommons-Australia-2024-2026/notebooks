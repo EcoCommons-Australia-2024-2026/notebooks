{
 "cells": [
  {
   "cell_type": "markdown",
   "id": "63219d32-7eb5-4705-b1f9-f239bda202c7",
   "metadata": {},
   "source": [
    "## Check, install and load Package And Prerequisites"
   ]
  },
  {
   "cell_type": "code",
   "execution_count": 1,
   "id": "bbd5f466-d08d-4bd9-8c12-a49d5eaa1244",
   "metadata": {},
   "outputs": [
    {
     "name": "stderr",
     "output_type": "stream",
     "text": [
      "also installing the dependencies ‘triebeard’, ‘urltools’, ‘httpcode’, ‘crul’, ‘oai’, ‘lazyeval’\n",
      "\n",
      "\n",
      "Updating HTML index of packages in '.Library'\n",
      "\n",
      "Making 'packages.html' ...\n",
      " done\n",
      "\n",
      "Updating HTML index of packages in '.Library'\n",
      "\n",
      "Making 'packages.html' ...\n",
      " done\n",
      "\n",
      "Updating HTML index of packages in '.Library'\n",
      "\n",
      "Making 'packages.html' ...\n",
      " done\n",
      "\n"
     ]
    },
    {
     "ename": "ERROR",
     "evalue": "Error: package or namespace load failed for ‘dplyr’ in loadNamespace(i, c(lib.loc, .libPaths()), versionCheck = vI[[i]]):\n namespace ‘rlang’ 1.0.6 is already loaded, but >= 1.1.0 is required\n",
     "output_type": "error",
     "traceback": [
      "Error: package or namespace load failed for ‘dplyr’ in loadNamespace(i, c(lib.loc, .libPaths()), versionCheck = vI[[i]]):\n namespace ‘rlang’ 1.0.6 is already loaded, but >= 1.1.0 is required\nTraceback:\n",
      "1. library(dplyr)",
      "2. tryCatch({\n .     attr(package, \"LibPath\") <- which.lib.loc\n .     ns <- loadNamespace(package, lib.loc)\n .     env <- attachNamespace(ns, pos = pos, deps, exclude, include.only)\n . }, error = function(e) {\n .     P <- if (!is.null(cc <- conditionCall(e))) \n .         paste(\" in\", deparse(cc)[1L])\n .     else \"\"\n .     msg <- gettextf(\"package or namespace load failed for %s%s:\\n %s\", \n .         sQuote(package), P, conditionMessage(e))\n .     if (logical.return && !quietly) \n .         message(paste(\"Error:\", msg), domain = NA)\n .     else stop(msg, call. = FALSE, domain = NA)\n . })",
      "3. tryCatchList(expr, classes, parentenv, handlers)",
      "4. tryCatchOne(expr, names, parentenv, handlers[[1L]])",
      "5. value[[3L]](cond)",
      "6. stop(msg, call. = FALSE, domain = NA)"
     ]
    }
   ],
   "source": [
    "install.packages(\"rgbif\")\n",
    "install.packages(\"dplyr\")\n",
    "install.packages(\"readr\")\n",
    "\n",
    "library(rgbif)\n",
    "library(dplyr)\n",
    "library(readr)\n"
   ]
  },
  {
   "cell_type": "markdown",
   "id": "a3fee1f2-1b18-4d85-ae28-42b02dcef4ef",
   "metadata": {},
   "source": [
    "## Species list"
   ]
  },
  {
   "cell_type": "code",
   "execution_count": null,
   "id": "90f568db-bdf2-4f0d-b35f-f439d43bb1a8",
   "metadata": {},
   "outputs": [],
   "source": [
    "species_list <- c(\"Limosa lapponica\", \"Calidris ruficollis\", \n",
    "                  \"Calidris ferruginea\", \"Calidris tenuirostris\", \n",
    "                  \"Calidris acuminata\")\n"
   ]
  },
  {
   "cell_type": "markdown",
   "id": "c851d26a-cf2c-436c-9285-8b72f9c26dab",
   "metadata": {},
   "source": [
    "## Download and save data"
   ]
  },
  {
   "cell_type": "code",
   "execution_count": 3,
   "id": "a866a8e2-36c7-4626-a0dd-b4eb9ceabafc",
   "metadata": {},
   "outputs": [
    {
     "ename": "ERROR",
     "evalue": "Error in write_csv(gbif_data_df, paste0(\"GBIF_\", gsub(\" \", \"_\", species), : could not find function \"write_csv\"\n",
     "output_type": "error",
     "traceback": [
      "Error in write_csv(gbif_data_df, paste0(\"GBIF_\", gsub(\" \", \"_\", species), : could not find function \"write_csv\"\nTraceback:\n"
     ]
    }
   ],
   "source": [
    "for (species in species_list) {\n",
    "  # Download GBIF occurrence data\n",
    "  gbif_data <- occ_search(scientificName = species,\n",
    "                          limit = 10000, # Adjust the limit as needed\n",
    "                          year = \"2014,2024\", # Specify the year range\n",
    "                          fields = c(\"species\", \"decimalLatitude\", \"decimalLongitude\", \"eventDate\"))\n",
    "  \n",
    "  # Extract data\n",
    "  gbif_data_df <- gbif_data$data\n",
    "  \n",
    "  # Save to CSV\n",
    "  write_csv(gbif_data_df, paste0(\"GBIF_\", gsub(\" \", \"_\", species), \"_2014-2024.csv\"))\n",
    "}\n"
   ]
  }
 ],
 "metadata": {
  "kernelspec": {
   "display_name": "R",
   "language": "R",
   "name": "ir"
  },
  "language_info": {
   "codemirror_mode": "r",
   "file_extension": ".r",
   "mimetype": "text/x-r-source",
   "name": "R",
   "pygments_lexer": "r",
   "version": "4.2.2"
  }
 },
 "nbformat": 4,
 "nbformat_minor": 5
}
