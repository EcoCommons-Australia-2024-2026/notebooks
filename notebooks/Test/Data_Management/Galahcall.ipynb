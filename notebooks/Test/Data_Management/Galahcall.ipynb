{
 "cells": [
  {
   "cell_type": "markdown",
   "id": "fc4bc1ef-23cb-4788-b1d5-e3d5461cc5ad",
   "metadata": {},
   "source": [
    "## Check, install and load Package And Prerequisites"
   ]
  },
  {
   "cell_type": "code",
   "execution_count": 1,
   "id": "b12030c8-4145-44ec-a0d2-bdba468e0a26",
   "metadata": {
    "tags": [],
    "vscode": {
     "languageId": "r"
    }
   },
   "outputs": [
    {
     "name": "stderr",
     "output_type": "stream",
     "text": [
      "also installing the dependencies ‘s2’, ‘units’, ‘httr2’, ‘potions’, ‘sf’\n",
      "\n",
      "\n",
      "Warning message in install.packages(\"galah\"):\n",
      "“installation of package ‘units’ had non-zero exit status”\n",
      "Warning message in install.packages(\"galah\"):\n",
      "“installation of package ‘httr2’ had non-zero exit status”\n",
      "Warning message in install.packages(\"galah\"):\n",
      "“installation of package ‘sf’ had non-zero exit status”\n",
      "Warning message in install.packages(\"galah\"):\n",
      "“installation of package ‘galah’ had non-zero exit status”\n",
      "Updating HTML index of packages in '.Library'\n",
      "\n",
      "Making 'packages.html' ...\n",
      " done\n",
      "\n",
      "also installing the dependencies ‘pillar’, ‘tibble’\n",
      "\n",
      "\n",
      "Updating HTML index of packages in '.Library'\n",
      "\n",
      "Making 'packages.html' ...\n",
      " done\n",
      "\n",
      "Updating HTML index of packages in '.Library'\n",
      "\n",
      "Making 'packages.html' ...\n",
      " done\n",
      "\n"
     ]
    },
    {
     "ename": "ERROR",
     "evalue": "Error in library(galah): there is no package called ‘galah’\n",
     "output_type": "error",
     "traceback": [
      "Error in library(galah): there is no package called ‘galah’\nTraceback:\n",
      "1. library(galah)"
     ]
    }
   ],
   "source": [
    "install.packages(\"galah\")\n",
    "install.packages(\"dplyr\")\n",
    "install.packages(\"readr\")\n",
    "\n",
    "library(galah)\n",
    "library(dplyr)\n",
    "library(readr)\n"
   ]
  },
  {
   "cell_type": "code",
   "execution_count": 7,
   "id": "9baa4855-87fe-4d1e-9aa0-26c1f9d8d365",
   "metadata": {
    "vscode": {
     "languageId": "r"
    }
   },
   "outputs": [
    {
     "name": "stderr",
     "output_type": "stream",
     "text": [
      "also installing the dependencies ‘units’, ‘httr2’, ‘sf’\n",
      "\n",
      "\n",
      "Warning message in install.packages(\"galah\"):\n",
      "“installation of package ‘units’ had non-zero exit status”\n",
      "Warning message in install.packages(\"galah\"):\n",
      "“installation of package ‘httr2’ had non-zero exit status”\n",
      "Warning message in install.packages(\"galah\"):\n",
      "“installation of package ‘sf’ had non-zero exit status”\n",
      "Warning message in install.packages(\"galah\"):\n",
      "“installation of package ‘galah’ had non-zero exit status”\n",
      "Updating HTML index of packages in '.Library'\n",
      "\n",
      "Making 'packages.html' ...\n",
      " done\n",
      "\n"
     ]
    },
    {
     "ename": "ERROR",
     "evalue": "Error in library(galah): there is no package called ‘galah’\n",
     "output_type": "error",
     "traceback": [
      "Error in library(galah): there is no package called ‘galah’\nTraceback:\n",
      "1. library(galah)"
     ]
    }
   ],
   "source": [
    "install.packages(\"galah\")\n",
    "library(galah)"
   ]
  },
  {
   "cell_type": "markdown",
   "id": "0f28c695-cf19-4325-9b65-8b850d0936a5",
   "metadata": {},
   "source": [
    "## Species list"
   ]
  },
  {
   "cell_type": "code",
   "execution_count": 3,
   "id": "9778c7e7-459e-4689-bb01-d84feee3902e",
   "metadata": {
    "vscode": {
     "languageId": "r"
    }
   },
   "outputs": [],
   "source": [
    "species_list <- c(\"Limosa lapponica\", \"Calidris ruficollis\", \n",
    "                  \"Calidris ferruginea\", \"Calidris tenuirostris\", \n",
    "                  \"Calidris acuminata\")\n"
   ]
  },
  {
   "cell_type": "markdown",
   "id": "38f935f1-ef10-4d9c-b269-c3f52cdb0d93",
   "metadata": {},
   "source": [
    "## Download and save data"
   ]
  },
  {
   "cell_type": "code",
   "execution_count": 5,
   "id": "e6e6d004-3ce4-40fd-b3e6-856d76efd198",
   "metadata": {
    "vscode": {
     "languageId": "r"
    }
   },
   "outputs": [
    {
     "ename": "ERROR",
     "evalue": "Error in galah_select(galah_filter(galah_identify(galah_call(), species), : could not find function \"galah_select\"\n",
     "output_type": "error",
     "traceback": [
      "Error in galah_select(galah_filter(galah_identify(galah_call(), species), : could not find function \"galah_select\"\nTraceback:\n"
     ]
    }
   ],
   "source": [
    "for (species in species_list) {\n",
    "  # Define your ALA query\n",
    "  ala_query <- galah_call() |>\n",
    "    galah_identify(species) |>\n",
    "    galah_filter(year >= 2014, year <= 2024) |>\n",
    "    galah_select(\"species\", \"decimalLatitude\", \"decimalLongitude\", \"eventDate\")\n",
    "  \n",
    "  # Download occurrence data\n",
    "  ala_data <- atlas_occurrences(ala_query)\n",
    "  \n",
    "  # Save to CSV\n",
    "  write_csv(ala_data, paste0(\"ALA_\", gsub(\" \", \"_\", species), \"_2014-2024.csv\"))\n",
    "}\n"
   ]
  }
 ],
 "metadata": {
  "kernelspec": {
   "display_name": "R",
   "language": "R",
   "name": "ir"
  },
  "language_info": {
   "codemirror_mode": "r",
   "file_extension": ".r",
   "mimetype": "text/x-r-source",
   "name": "R",
   "pygments_lexer": "r",
   "version": "4.2.2"
  }
 },
 "nbformat": 4,
 "nbformat_minor": 5
}
