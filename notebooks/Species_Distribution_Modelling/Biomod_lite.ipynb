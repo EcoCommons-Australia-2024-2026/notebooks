{
 "cells": [
  {
   "cell_type": "markdown",
   "metadata": {},
   "source": [
    "---\n",
    "Author details: EcoCommons team 2024? \n",
    "Editor details:     \n",
    "Contact details: support@ecocommons.org.au \n",
    "Copyright statement: This script is the product of the EcoCommons platform.   \n",
    "                     Please refer to the EcoCommons website for more details:   \n",
    "                     <https://www.ecocommons.org.au/>  \n",
    "Date: August 2024  \n",
    "\n",
    "---\n",
    "\n",
    "#### Script and data info: \n",
    "\n",
    "Use Case: Locating distribution of High density migratory shore birds to identify hotspots in QLD, which can assist to manage and contibute to Avian flu studies.\n",
    "\n",
    "1. Bar-tailed Godwit (Limosa lapponica)\n",
    "Density: Very high\n",
    "Notes: One of the most common and numerous shorebirds in Australia during migration. Known for their long non-stop flights.\n",
    "2. Red-necked Stint (Calidris ruficollis)\n",
    "Density: Very high\n",
    "Notes: This small shorebird is highly abundant in Australia, often seen in large flocks.\n",
    "3. Curlew Sandpiper (Calidris ferruginea)\n",
    "Density: High\n",
    "Notes: Once common, but numbers have declined significantly in recent years due to habitat loss along the flyway.\n",
    "4. Great Knot (Calidris tenuirostris)\n",
    "Density: High\n",
    "Notes: Another abundant species in Australia, although populations are under threat.\n",
    "5. Sharp-tailed Sandpiper (Calidris acuminata)\n",
    "Density: High\n",
    "Notes: Commonly found in wetlands and marshes across Australia."
   ]
  },
  {
   "cell_type": "code",
   "execution_count": 1,
   "metadata": {
    "vscode": {
     "languageId": "r"
    }
   },
   "outputs": [
    {
     "name": "stderr",
     "output_type": "stream",
     "text": [
      "also installing the dependencies 'triebeard', 'urltools', 'httpcode', 'plyr', 'crul', 'data.table', 'oai'\n",
      "\n",
      "\n"
     ]
    },
    {
     "name": "stdout",
     "output_type": "stream",
     "text": [
      "\n",
      "The downloaded binary packages are in\n",
      "\t/var/folders/t0/9dty7yc10v91d98_j_6hqpj00000gn/T//Rtmp4zCSBm/downloaded_packages\n"
     ]
    },
    {
     "name": "stderr",
     "output_type": "stream",
     "text": [
      "Linking to GEOS 3.11.0, GDAL 3.5.3, PROJ 9.1.0; sf_use_s2() is TRUE\n",
      "\n"
     ]
    },
    {
     "ename": "ERROR",
     "evalue": "Error in occ_data$data[, c(\"decimalLongitude\", \"decimalLatitude\")]: incorrect number of dimensions\n",
     "output_type": "error",
     "traceback": [
      "Error in occ_data$data[, c(\"decimalLongitude\", \"decimalLatitude\")]: incorrect number of dimensions\nTraceback:\n"
     ]
    }
   ],
   "source": [
    "# Install and load necessary packages\n",
    "install.packages(\"rgbif\")\n",
    "library(rgbif)\n",
    "library(sf)\n",
    "\n",
    "# Define the species and region of interest\n",
    "species_list <- c(\"Limosa lapponica\", \"Calidris ruficollis\", \n",
    "                  \"Calidris ferruginea\", \"Calidris tenuirostris\", \n",
    "                  \"Calidris acuminata\")\n",
    "\n",
    "# Create an empty list to store data\n",
    "all_occurrences <- list()\n",
    "\n",
    "# Loop through each species and download data\n",
    "for (species in species_list) {\n",
    "  occ_data <- occ_search(scientificName = species, \n",
    "                         country = \"AU\", \n",
    "                         stateProvince = \"Queensland\", \n",
    "                         year = 2014:2024, \n",
    "                         limit = 1000)\n",
    "  \n",
    "  # Add species name to the data\n",
    "  occ_data$data$species <- species\n",
    "  \n",
    "  # Convert to a spatial object\n",
    "  coords <- occ_data$data[, c(\"decimalLongitude\", \"decimalLatitude\")]\n",
    "  bird_sf <- st_as_sf(occ_data$data, coords = coords, crs = 4326, agr = \"constant\")\n",
    "  \n",
    "  # Append to the list\n",
    "  all_occurrences[[species]] <- bird_sf\n",
    "}\n",
    "\n",
    "# Combine all species data into one spatial object\n",
    "combined_sf <- do.call(rbind, all_occurrences)\n",
    "\n",
    "# Plot the points\n",
    "plot(st_geometry(combined_sf), main = \"Bird Observations in Queensland (2014-2024)\")\n"
   ]
  },
  {
   "cell_type": "code",
   "execution_count": null,
   "metadata": {
    "vscode": {
     "languageId": "r"
    }
   },
   "outputs": [],
   "source": [
    "# Install and load necessary packages\n",
    "install.packages(\"spatstat\")\n",
    "library(spatstat)\n",
    "\n",
    "# Convert to a point pattern object for spatial analysis\n",
    "bird_ppp <- as.ppp(combined_sf)\n",
    "\n",
    "# Apply Kernel Density Estimation\n",
    "bird_kde <- density(bird_ppp, sigma = 0.1)  # Adjust sigma for smoothing\n",
    "\n",
    "# Plot the KDE\n",
    "plot(bird_kde, main = \"Kernel Density Estimation of Bird Observations in QLD\")\n"
   ]
  },
  {
   "cell_type": "code",
   "execution_count": null,
   "metadata": {
    "vscode": {
     "languageId": "r"
    }
   },
   "outputs": [],
   "source": [
    "# Install and load necessary packages\n",
    "install.packages(\"biomod2\")\n",
    "library(biomod2)\n",
    "\n",
    "# Prepare data for SDM\n",
    "myBiomodData <- BIOMOD_FormatingData(resp.var = as.numeric(combined_sf$species %in% species_list),\n",
    "                                     expl.var = my_environmental_layers, \n",
    "                                     resp.xy = st_coordinates(combined_sf),\n",
    "                                     resp.name = species_list)\n",
    "\n",
    "# Run the model\n",
    "myBiomodModelOut <- BIOMOD_Modeling(myBiomodData, models = c('GLM', 'RF'), \n",
    "                                    models.options = myBiomodOptions, \n",
    "                                    NbRunEval = 3, DataSplit = 80)\n",
    "\n",
    "# Project the model\n",
    "myBiomodProj <- BIOMOD_Projection(modeling.output = myBiomodModelOut, \n",
    "                                  new.env = my_new_environmental_layers)\n",
    "\n",
    "# Plot the projected distribution\n",
    "plot(myBiomodProj, main = \"Projected Distribution of Selected Bird Species in QLD\")\n"
   ]
  }
 ],
 "metadata": {
  "kernelspec": {
   "display_name": "R",
   "language": "R",
   "name": "ir"
  },
  "language_info": {
   "codemirror_mode": "r",
   "file_extension": ".r",
   "mimetype": "text/x-r-source",
   "name": "R",
   "pygments_lexer": "r",
   "version": "4.4.1"
  }
 },
 "nbformat": 4,
 "nbformat_minor": 2
}
