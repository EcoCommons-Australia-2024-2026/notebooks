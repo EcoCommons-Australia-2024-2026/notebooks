{
 "cells": [
  {
   "cell_type": "markdown",
   "metadata": {},
   "source": [
    "<center>\n",
    "\n",
    "EcoCommons GitHub Notebooks ![EcoCommons](https://www.ecocommons.org.au)\n",
    "    \n",
    "</center>\n"
   ]
  },
  {
   "cell_type": "markdown",
   "metadata": {},
   "source": [
    "# EcoCommons Notebook \n",
    "## Species Distribution Model\n",
    "### Genralised Linear Model GLM \n"
   ]
  },
  {
   "cell_type": "markdown",
   "metadata": {},
   "source": [
    "---\n",
    "Author details:     \n",
    "Contact details: comms@ecocommons.org.au  \n",
    "Copyright statement: This script is the product of the EcoCommons platform.   \n",
    "                     Please refer to the EcoCommons website for more details:   \n",
    "                     <https://www.ecocommons.org.au/>  \n",
    "Date: August 2024  \n",
    "\n",
    "---\n",
    "\n",
    "#### Script and data info: \n",
    "\n",
    "This notebook provides an example of how to run a simple version SDM \n",
    "\n",
    "In the near future, this material may form part of comprehensive support materials available to EcoCommons users.\n",
    " \n",
    "If you have any corrections or suggestions to improve the effeciengy, please [contact the EcoCommons](mailto:comms@ecocommons.org.au) support and communications team."
   ]
  },
  {
   "cell_type": "code",
   "execution_count": 106,
   "metadata": {
    "vscode": {
     "languageId": "r"
    }
   },
   "outputs": [],
   "source": [
    "#packages for the analysis\n",
    "# SLM : do we need to install these packages? Please consider using renv to manage the dependencies\n",
    "library(dismo)\n",
    "library(dplyr) # I prefer reading tidyverse (ggplot already included)\n",
    "library(ggplot2)\n",
    "library(raster)"
   ]
  },
  {
   "cell_type": "code",
   "execution_count": null,
   "metadata": {
    "vscode": {
     "languageId": "r"
    }
   },
   "outputs": [],
   "source": [
    "setwd(\"/Users/qcifecocommons/Documents/RDIR/wd4liteSDM/sdm_data\")\n",
    "getwd()\n",
    "#SLM: I cannot access this repository. Please consider using a public repository or providing the data in a different way"
   ]
  },
  {
   "cell_type": "code",
   "execution_count": null,
   "metadata": {
    "vscode": {
     "languageId": "r"
    }
   },
   "outputs": [],
   "source": [
    "#read occurance data\n",
    "tree_kangaroo_data <-read.csv(\"Tree_kangaroo.csv\")\n",
    "#check data class\n",
    "sapply(tree_kangaroo_data, class)\n",
    "#change data class to numeric\n",
    "tree_kangaroo_data <- tree_kangaroo_data %>% mutate(across(where(is.character), as.numeric))\n",
    "#check again\n",
    "sapply(tree_kangaroo_data, class)  #SLM:is there a way to automate this check?\n",
    "#assign CRS\n",
    "# SLM: what happened here? I cannot see the CRS being assigned\n"
   ]
  },
  {
   "cell_type": "code",
   "execution_count": null,
   "metadata": {
    "vscode": {
     "languageId": "r"
    }
   },
   "outputs": [],
   "source": [
    "# SLM: this needs a bit of explanation. What are we doing here :) ?\n",
    "file.exists(\"env_forecast.gri\")\n",
    "env_data_current <-stack(\"env_current.grd\")\n",
    "env_data_forecast <-stack(\"env_forecast.gri\")"
   ]
  },
  {
   "cell_type": "code",
   "execution_count": null,
   "metadata": {
    "vscode": {
     "languageId": "r"
    }
   },
   "outputs": [],
   "source": [
    "#SLM: this can be changed into a function instead of 4 individual lines\n",
    "plot(env_data_current$tmin)\n",
    "plot(env_data_current$precip)\n",
    "plot(env_data_forecast$tmin)\n",
    "plot(env_data_forecast$precip)"
   ]
  },
  {
   "cell_type": "code",
   "execution_count": 111,
   "metadata": {
    "vscode": {
     "languageId": "r"
    }
   },
   "outputs": [],
   "source": [
    "tk_locations <- select(tree_kangaroo_data,lon,lat)\n",
    "tk_env <-extract(env_data_current,tk_locations)\n",
    "tree_kangaroo_data <- cbind(tree_kangaroo_data, tk_env)\n",
    "\n"
   ]
  },
  {
   "cell_type": "code",
   "execution_count": null,
   "metadata": {
    "vscode": {
     "languageId": "r"
    }
   },
   "outputs": [],
   "source": [
    "# Check CRS\n",
    "\n",
    "crs(env_data_current)\n",
    "crs(tk_locations)"
   ]
  },
  {
   "cell_type": "code",
   "execution_count": null,
   "metadata": {
    "vscode": {
     "languageId": "r"
    }
   },
   "outputs": [],
   "source": [
    "ggplot(tree_kangaroo_data, \n",
    "       mapping = aes(x =tmin,y = precip, color = present)) +\n",
    "  geom_point()"
   ]
  },
  {
   "cell_type": "code",
   "execution_count": null,
   "metadata": {
    "vscode": {
     "languageId": "r"
    }
   },
   "outputs": [],
   "source": [
    "#GLM\n",
    "#multivariate ligistic regression\n",
    "#Occurance on X & envir on Y\n",
    "#Probability low or high for multiple variables\n",
    "\n",
    "logistic_regr_model <- glm(present ~ tmin + precip,\n",
    "                           family = binomial(link = \"logit\"),\n",
    "                           data = tree_kangaroo_data)\n",
    "summary(logistic_regr_model)"
   ]
  },
  {
   "cell_type": "markdown",
   "metadata": {},
   "source": [
    "# Model evaluation"
   ]
  },
  {
   "cell_type": "code",
   "execution_count": null,
   "metadata": {
    "vscode": {
     "languageId": "r"
    }
   },
   "outputs": [],
   "source": [
    "presence_data <-filter(tree_kangaroo_data,present ==1)\n",
    "absence_data <-filter(tree_kangaroo_data,present ==0)\n",
    "\n",
    "evaluation = evaluate(presence_data,absence_data,logistic_regr_model)\n",
    "plot(evaluation,\"ROC\")"
   ]
  },
  {
   "cell_type": "code",
   "execution_count": null,
   "metadata": {
    "vscode": {
     "languageId": "r"
    }
   },
   "outputs": [],
   "source": [
    "#absence from large scales can be problematic\n",
    "\n",
    "\n",
    "predictions = predict(env_data_current,\n",
    "                      logistic_regr_model,\n",
    "                      type = \"response\") \n",
    "plot(predictions, ext = extent(138, 154, -30, -10))\n",
    "\n",
    "points(presence_data[c(\"lon\",\"lat\")],pch =\"+\", cex = 0.5)\n",
    "\n"
   ]
  },
  {
   "cell_type": "code",
   "execution_count": null,
   "metadata": {
    "vscode": {
     "languageId": "r"
    }
   },
   "outputs": [],
   "source": [
    "#40% threshold\n",
    "plot(predictions>0.3, ext =extent(138, 154, -30, -10))\n",
    "# Calculate the threshold\n",
    "tr <- threshold(evaluation, stat = \"prevalence\")\n",
    "# Plot the predictions with the specified threshold and extent\n",
    "plot(predictions > tr, ext = extent(138, 154, -30, -10))\n",
    "points(presence_data[c(\"lon\", \"lat\")], pch = \"+\", cex = 0.5)\n"
   ]
  },
  {
   "cell_type": "code",
   "execution_count": null,
   "metadata": {
    "vscode": {
     "languageId": "r"
    }
   },
   "outputs": [],
   "source": [
    "str(env_data_forecast)\n",
    "summary(env_data_forecast)\n",
    "summary(env_data_current)\n",
    "model_vars <- names(coef(logistic_regr_model))\n",
    "missing_vars <- setdiff(model_vars, names(env_data_forecast))\n",
    "\n",
    "if (length(missing_vars) > 0) {\n",
    "  print(paste(\"Missing variables in env_data_forecast:\", paste(missing_vars, collapse = \", \")))\n",
    "}\n"
   ]
  },
  {
   "cell_type": "code",
   "execution_count": null,
   "metadata": {
    "vscode": {
     "languageId": "r"
    }
   },
   "outputs": [],
   "source": [
    "#future\n",
    "\n",
    "forecasts = predict(env_data_forecast,\n",
    "                    logistic_regr_model\n",
    "                    ,type = \"response\")\n",
    "extent_values <- extent(138, 154, -30, -10)\n",
    "plot(predictions, ext = extent_values)\n",
    "plot(forecasts > tr, ext = extent(138, 154, -30, -10))\n",
    "plot(forecasts - predictions, ext = extent(138, 154, -30, -10))\n",
    "\n"
   ]
  }
 ],
 "metadata": {
  "kernelspec": {
   "display_name": "R",
   "language": "R",
   "name": "ir"
  },
  "language_info": {
   "codemirror_mode": "r",
   "file_extension": ".r",
   "mimetype": "text/x-r-source",
   "name": "R",
   "pygments_lexer": "r",
   "version": "4.4.1"
  }
 },
 "nbformat": 4,
 "nbformat_minor": 2
}
